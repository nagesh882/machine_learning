{
 "cells": [
  {
   "cell_type": "code",
   "execution_count": 5,
   "id": "fac91d8d-1901-47ae-9390-a235c598c447",
   "metadata": {},
   "outputs": [],
   "source": [
    "# !pip install pandas numpy matplotlib scikit-learn"
   ]
  },
  {
   "cell_type": "code",
   "execution_count": 2,
   "id": "a5aef8e2-b763-400f-a82b-1251d837e3e9",
   "metadata": {},
   "outputs": [],
   "source": [
    "import pandas as pd\n",
    "import numpy as np\n",
    "import matplotlib.pyplot as plt\n",
    "from sklearn import linear_model"
   ]
  },
  {
   "cell_type": "code",
   "execution_count": null,
   "id": "5f445a1d-79a0-498e-80f0-7dd60f74dbdd",
   "metadata": {},
   "outputs": [],
   "source": [
    "df = pd.read_excel"
   ]
  },
  {
   "cell_type": "code",
   "execution_count": 1,
   "id": "f84b9d1c-c179-4039-b394-07486f35f19a",
   "metadata": {},
   "outputs": [
    {
     "ename": "NameError",
     "evalue": "name 'df' is not defined",
     "output_type": "error",
     "traceback": [
      "\u001b[0;31m---------------------------------------------------------------------------\u001b[0m",
      "\u001b[0;31mNameError\u001b[0m                                 Traceback (most recent call last)",
      "Cell \u001b[0;32mIn[1], line 2\u001b[0m\n\u001b[1;32m      1\u001b[0m (\u001b[38;5;124m\"\u001b[39m\u001b[38;5;124m/home/ubuntu/Desktop/machineLearning/ml-learn/linear_regression_single_variable.ods\u001b[39m\u001b[38;5;124m\"\u001b[39m)\n\u001b[0;32m----> 2\u001b[0m \u001b[43mdf\u001b[49m\n",
      "\u001b[0;31mNameError\u001b[0m: name 'df' is not defined"
     ]
    }
   ],
   "source": [
    "(\"/home/ubuntu/Desktop/machineLearning/ml-learn/linear_regression_single_variable.ods\")\n",
    "df"
   ]
  },
  {
   "cell_type": "code",
   "execution_count": null,
   "id": "e2ba2291-c406-4e1a-a6f0-9919e1d3e133",
   "metadata": {},
   "outputs": [],
   "source": []
  }
 ],
 "metadata": {
  "kernelspec": {
   "display_name": "Python 3 (ipykernel)",
   "language": "python",
   "name": "python3"
  },
  "language_info": {
   "codemirror_mode": {
    "name": "ipython",
    "version": 3
   },
   "file_extension": ".py",
   "mimetype": "text/x-python",
   "name": "python",
   "nbconvert_exporter": "python",
   "pygments_lexer": "ipython3",
   "version": "3.12.3"
  }
 },
 "nbformat": 4,
 "nbformat_minor": 5
}
